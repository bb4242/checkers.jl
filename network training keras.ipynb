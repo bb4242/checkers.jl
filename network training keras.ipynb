{
 "cells": [
  {
   "cell_type": "code",
   "execution_count": null,
   "metadata": {},
   "outputs": [],
   "source": [
    "import keras\n",
    "from keras.layers import Input, Dense, Conv2D, Flatten, BatchNormalization, Activation\n",
    "from keras.layers.merge import concatenate\n",
    "from keras.models import Model\n",
    "from keras.callbacks import TensorBoard, ModelCheckpoint, ReduceLROnPlateau\n",
    "from IPython.display import SVG\n",
    "from keras.utils.vis_utils import model_to_dot\n",
    "from datetime import datetime\n",
    "import sqlite3\n",
    "from blosc import decompress\n",
    "from msgpack import unpackb\n",
    "import pandas as pd\n",
    "import numpy as np\n",
    "from scipy.stats import entropy\n",
    "\n",
    "import matplotlib.pyplot as plt\n",
    "%matplotlib inline"
   ]
  },
  {
   "cell_type": "markdown",
   "metadata": {},
   "source": [
    "# Load data"
   ]
  },
  {
   "cell_type": "code",
   "execution_count": null,
   "metadata": {},
   "outputs": [],
   "source": [
    "con = sqlite3.connect(\"games.sqlite\")"
   ]
  },
  {
   "cell_type": "code",
   "execution_count": null,
   "metadata": {},
   "outputs": [],
   "source": [
    "def unpack_state(row):\n",
    "    vec = unpackb(decompress(row.board_state))\n",
    "    arr = np.array(np.reshape(np.frombuffer(vec, np.uint8), (8, 4, 8)).T, np.float32)\n",
    "    arr[:, :, 7] /= 100\n",
    "    return [arr]"
   ]
  },
  {
   "cell_type": "code",
   "execution_count": null,
   "metadata": {},
   "outputs": [],
   "source": [
    "def unpack_moves(row):\n",
    "    vec = unpackb(decompress(row.mcts_moves))\n",
    "    return [np.reshape(np.array(vec, np.float32), (4, 4, 8)).T]"
   ]
  },
  {
   "cell_type": "code",
   "execution_count": null,
   "metadata": {},
   "outputs": [],
   "source": [
    "positions = pd.read_sql_query(\"select positions.*, games.outcome from positions, games where positions.game_id=games.id\", con)\n",
    "positions['state_tensor'] = positions.apply(unpack_state, axis=1)\n",
    "positions['moves_tensor'] = positions.apply(unpack_moves, axis=1)\n",
    "len(positions)"
   ]
  },
  {
   "cell_type": "code",
   "execution_count": null,
   "metadata": {},
   "outputs": [],
   "source": [
    "positions.head()"
   ]
  },
  {
   "cell_type": "markdown",
   "metadata": {},
   "source": [
    "## Plot move probabilities"
   ]
  },
  {
   "cell_type": "code",
   "execution_count": null,
   "metadata": {},
   "outputs": [],
   "source": [
    "def get_board_coords(layer, vals=None):\n",
    "    if vals is None:\n",
    "        vals = layer\n",
    "    x, y = np.nonzero(layer)\n",
    "    v = vals[x, y]\n",
    "    x += 1\n",
    "    for i, xi in enumerate(x):\n",
    "        if xi%2 == 1:\n",
    "            y[i] = y[i]*2 + 2\n",
    "        else:\n",
    "            y[i] = y[i]*2 + 1\n",
    "    return x, y, v"
   ]
  },
  {
   "cell_type": "code",
   "execution_count": null,
   "metadata": {},
   "outputs": [],
   "source": [
    "def plot_moves(state_tensor, moves_tensor):\n",
    "    for i, sym in [(0, 'ro'), (1, 'ko'), (2, 'r*'), (3, 'k*')]:\n",
    "        x, y, _ = get_board_coords(state_tensor[:, :, i])\n",
    "        plt.plot(y, x, sym, markersize=20)\n",
    "\n",
    "    l = 0.7\n",
    "    cm = plt.get_cmap('cool')\n",
    "    for i, (dx, dy) in [(0, (-l, -l)), (1, (l, -l)), (2, (-l, l)), (3, (l, l))]:\n",
    "        x, y, p = get_board_coords(moves_tensor[:, :, i] > 0.001, moves_tensor[:, :, i])\n",
    "        for xi, yi, pi in zip(x, y, p):\n",
    "            plt.arrow(yi, xi, dy, dx, head_width=pi, head_length=0.3, width=pi, color=cm(pi))\n",
    "            plt.text(yi + dy/1.1, xi + dx/1.1, '{:.2f}'.format(pi), color='g')\n",
    "\n",
    "    plt.grid()\n",
    "    plt.gca().invert_yaxis()\n",
    "    plt.xticks(np.arange(0.5, 9, 1))\n",
    "    plt.yticks(np.arange(0.5, 9, 1))"
   ]
  },
  {
   "cell_type": "code",
   "execution_count": null,
   "metadata": {},
   "outputs": [],
   "source": [
    "for _, row in positions.sample(3).iterrows():\n",
    "    plot_moves(row.state_tensor[0], row.moves_tensor[0])\n",
    "    plt.show()"
   ]
  },
  {
   "cell_type": "markdown",
   "metadata": {},
   "source": [
    "## Train/validate split"
   ]
  },
  {
   "cell_type": "code",
   "execution_count": null,
   "metadata": {},
   "outputs": [],
   "source": [
    "split = positions.groupby(lambda r: positions.loc[r].game_id % 5 == 0)\n",
    "val = split.get_group(True)\n",
    "train = split.get_group(False)"
   ]
  },
  {
   "cell_type": "code",
   "execution_count": null,
   "metadata": {},
   "outputs": [],
   "source": [
    "def extract_tensors(dataframe):\n",
    "    inputs = []\n",
    "    outcomes = []\n",
    "    mcts_probs = []\n",
    "    for _, row in dataframe.sample(frac=1).iterrows():\n",
    "        inputs.append(row.state_tensor[0])\n",
    "        outcomes.append(row.outcome)\n",
    "        mcts_probs.append(row.moves_tensor[0].ravel())\n",
    "    return np.array(inputs), np.array(outcomes), np.array(mcts_probs)"
   ]
  },
  {
   "cell_type": "code",
   "execution_count": null,
   "metadata": {},
   "outputs": [],
   "source": [
    "val_in, val_outcomes, val_probs = extract_tensors(val)\n",
    "train_in, train_outcomes, train_probs = extract_tensors(train)"
   ]
  },
  {
   "cell_type": "markdown",
   "metadata": {},
   "source": [
    "# Outcome model"
   ]
  },
  {
   "cell_type": "code",
   "execution_count": null,
   "metadata": {},
   "outputs": [],
   "source": [
    "start = Input(shape=positions.loc[0].state_tensor[0].shape)\n",
    "\n",
    "x = start\n",
    "for i in range(100):\n",
    "    prev_layer = x\n",
    "    x = Conv2D(4, (3, 3), padding='same', activation='relu')(prev_layer)\n",
    "    x = BatchNormalization()(x)\n",
    "    x = concatenate([prev_layer, x])\n",
    "    \n",
    "x = Conv2D(64, (1, 1), padding='same', activation='relu')(x)\n",
    "x = Flatten()(x)\n",
    "x = Dense(64, activation='relu')(x)\n",
    "x = Dense(64, activation='relu')(x)\n",
    "x = Dense(64, activation='relu')(x)\n",
    "x = Dense(1, activation='sigmoid')(x)\n",
    "\n",
    "outcome_model = Model(start, x)"
   ]
  },
  {
   "cell_type": "code",
   "execution_count": null,
   "metadata": {},
   "outputs": [],
   "source": [
    "savedir = 'logs-outcome/' + str(datetime.now())\n",
    "tbcb = TensorBoard(log_dir=savedir, histogram_freq=0, write_graph=True, write_images=True)\n",
    "mccb = ModelCheckpoint(savedir+'/model.{epoch:04d}-{loss:.4f}-{val_loss:.4f}.hdf5',\n",
    "                       monitor='val_loss', save_best_only=False, period=5)\n",
    "redlr = ReduceLROnPlateau('loss', factor=0.1, cooldown=1, verbose=1, patience=4)\n",
    "callbacks = [tbcb, mccb, redlr]\n",
    "\n",
    "outcome_model.compile(loss='mean_squared_error', optimizer=keras.optimizers.RMSprop(2e-4), metrics=['mean_absolute_error'])\n",
    "outcome_model.fit(train_in, train_outcomes, 1024, 100, verbose=1, callbacks=callbacks, validation_data=(val_in, val_outcomes))"
   ]
  },
  {
   "cell_type": "markdown",
   "metadata": {},
   "source": [
    "# MCTS probability model"
   ]
  },
  {
   "cell_type": "code",
   "execution_count": null,
   "metadata": {},
   "outputs": [],
   "source": [
    "start = Input(shape=positions.loc[0].state_tensor[0].shape)\n",
    "\n",
    "x = start\n",
    "for i in range(100):\n",
    "    prev_layer = x\n",
    "    x = Conv2D(4, (3, 3), padding='same', activation='relu')(prev_layer)\n",
    "    x = BatchNormalization()(x)\n",
    "    x = concatenate([prev_layer, x])\n",
    "    \n",
    "x = Conv2D(64, (1, 1), padding='same', activation='relu')(x)\n",
    "x = Conv2D(4, (1, 1), padding='same', activation='relu')(x)\n",
    "x = Flatten()(x)\n",
    "x = Activation('softmax')(x)\n",
    "\n",
    "prob_model = Model(start, x)"
   ]
  },
  {
   "cell_type": "code",
   "execution_count": null,
   "metadata": {},
   "outputs": [],
   "source": [
    "savedir = 'logs-probs/' + str(datetime.now())\n",
    "tbcb = TensorBoard(log_dir=savedir, histogram_freq=0, write_graph=True, write_images=True)\n",
    "mccb = ModelCheckpoint(savedir+'/model.{epoch:04d}-{loss:.4f}-{val_loss:.4f}.hdf5',\n",
    "                       monitor='val_loss', save_best_only=False, period=5)\n",
    "redlr = ReduceLROnPlateau('loss', factor=0.1, cooldown=1, verbose=1, patience=4)\n",
    "callbacks = [tbcb, mccb, redlr]\n",
    "\n",
    "prob_model.compile(loss='kullback_leibler_divergence', optimizer=keras.optimizers.RMSprop(2e-4))\n",
    "prob_model.fit(train_in, train_probs, 1024, 100, verbose=1, callbacks=callbacks, validation_data=(val_in, val_probs))"
   ]
  },
  {
   "cell_type": "markdown",
   "metadata": {},
   "source": [
    "## Plot expected vs predicted probabilities on validation set"
   ]
  },
  {
   "cell_type": "code",
   "execution_count": null,
   "metadata": {},
   "outputs": [],
   "source": [
    "for i in range(100):\n",
    "    vi = val_in[i]\n",
    "    vp = np.reshape(val_probs[i], (8, 4, 4))\n",
    "    vpp = np.reshape(model.predict(vi[np.newaxis]), (8, 4, 4))\n",
    "    \n",
    "    plt.figure(figsize=(10, 4))\n",
    "    plt.subplot(1, 2, 1)\n",
    "    plot_moves(vi, vp)\n",
    "    plt.subplot(1, 2, 2)\n",
    "    plot_moves(vi, vpp)\n",
    "    plt.title(\"KL divergence {:.3f}\".format(entropy(vp.ravel(), vpp.ravel())))\n",
    "    plt.show()            "
   ]
  },
  {
   "cell_type": "code",
   "execution_count": null,
   "metadata": {},
   "outputs": [],
   "source": []
  },
  {
   "cell_type": "markdown",
   "metadata": {},
   "source": [
    "# Combined outcome/probability model"
   ]
  },
  {
   "cell_type": "code",
   "execution_count": null,
   "metadata": {},
   "outputs": [],
   "source": [
    "start = Input(shape=positions.loc[0].state_tensor[0].shape)\n",
    "\n",
    "x = start\n",
    "for i in range(100):\n",
    "    prev_layer = x\n",
    "    x = Conv2D(4, (3, 3), padding='same', activation='relu')(prev_layer)\n",
    "    x = BatchNormalization()(x)\n",
    "    x = concatenate([prev_layer, x])\n",
    "\n",
    "common_output = x\n",
    "\n",
    "# Move head\n",
    "x = Conv2D(64, (1, 1), padding='same', activation='relu')(common_output)\n",
    "x = Conv2D(4, (1, 1), padding='same', activation='relu')(x)\n",
    "x = Flatten()(x)\n",
    "move_probs = Activation('softmax', name='move_probs')(x)\n",
    "\n",
    "# Outcome head\n",
    "x = Conv2D(64, (1, 1), padding='same', activation='relu')(common_output)\n",
    "x = Flatten()(x)\n",
    "x = Dense(64, activation='relu')(x)\n",
    "x = Dense(64, activation='relu')(x)\n",
    "x = Dense(64, activation='relu')(x)\n",
    "outcome = Dense(1, activation='sigmoid', name='outcome')(x)\n",
    "\n",
    "combined_model = Model(start, [move_probs, outcome])"
   ]
  },
  {
   "cell_type": "code",
   "execution_count": null,
   "metadata": {},
   "outputs": [],
   "source": [
    "SVG(model_to_dot(combined_model, True).create(prog='dot', format='svg'))"
   ]
  },
  {
   "cell_type": "code",
   "execution_count": null,
   "metadata": {},
   "outputs": [],
   "source": [
    "savedir = 'logs-combined/' + str(datetime.now())\n",
    "tbcb = TensorBoard(log_dir=savedir, histogram_freq=0, write_graph=True, write_images=True)\n",
    "mccb = ModelCheckpoint(savedir+'/model.{epoch:04d}-{loss:.4f}-{val_loss:.4f}.hdf5',\n",
    "                       monitor='val_loss', save_best_only=False, period=5)\n",
    "redlr = ReduceLROnPlateau('loss', factor=0.1, cooldown=1, verbose=1, patience=4)\n",
    "callbacks = [tbcb, mccb, redlr]\n",
    "\n",
    "combined_model.compile(loss={'move_probs': 'kullback_leibler_divergence', 'outcome': 'mean_squared_error'},\n",
    "                   loss_weights={'move_probs': 0.5, 'outcome': 0.5},\n",
    "                   optimizer=keras.optimizers.RMSprop(2e-4))\n",
    "combined_model.fit(train_in, [train_probs, train_outcomes], 1024, 100, verbose=1,\n",
    "               callbacks=callbacks, validation_data=(val_in, [val_probs, val_outcomes]))"
   ]
  },
  {
   "cell_type": "code",
   "execution_count": null,
   "metadata": {},
   "outputs": [],
   "source": []
  }
 ],
 "metadata": {
  "kernelspec": {
   "display_name": "Python 3",
   "language": "python",
   "name": "python3"
  },
  "language_info": {
   "codemirror_mode": {
    "name": "ipython",
    "version": 3
   },
   "file_extension": ".py",
   "mimetype": "text/x-python",
   "name": "python",
   "nbconvert_exporter": "python",
   "pygments_lexer": "ipython3",
   "version": "3.5.2"
  }
 },
 "nbformat": 4,
 "nbformat_minor": 2
}
